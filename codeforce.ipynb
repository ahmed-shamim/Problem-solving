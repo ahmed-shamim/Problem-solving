{
  "nbformat": 4,
  "nbformat_minor": 0,
  "metadata": {
    "colab": {
      "name": "codeforce.ipynb",
      "provenance": [],
      "authorship_tag": "ABX9TyM48KbG/yVEVnKy8LR9XjlH",
      "include_colab_link": true
    },
    "kernelspec": {
      "name": "python3",
      "display_name": "Python 3"
    },
    "language_info": {
      "name": "python"
    }
  },
  "cells": [
    {
      "cell_type": "markdown",
      "metadata": {
        "id": "view-in-github",
        "colab_type": "text"
      },
      "source": [
        "<a href=\"https://colab.research.google.com/github/ahmed-shamim/Problem-solving/blob/main/codeforce.ipynb\" target=\"_parent\"><img src=\"https://colab.research.google.com/assets/colab-badge.svg\" alt=\"Open In Colab\"/></a>"
      ]
    },
    {
      "cell_type": "code",
      "metadata": {
        "colab": {
          "base_uri": "https://localhost:8080/"
        },
        "id": "iEq349Z9JZsN",
        "outputId": "ecfa7d2c-505e-42db-f7e4-38b505330049"
      },
      "source": [
        "def gcd(a,b):\n",
        "  if(a%b==0):\n",
        "    return b\n",
        "  else:\n",
        "    return gcd(b,a%b)\n",
        "case=int(input())\n",
        "while(case>0):\n",
        "\n",
        "  a= int(input())\n",
        "  while(a>=1):\n",
        "    digits = [int(x) for x in str(a)]\n",
        "    b=sum(digits)\n",
        "    GCD=gcd(a,b)\n",
        "    if(GCD<=1):\n",
        "      a+=1\n",
        "    else:\n",
        "      print(a)\n",
        "      break\n",
        "  case-=1"
      ],
      "execution_count": 1,
      "outputs": [
        {
          "output_type": "stream",
          "text": [
            "1\n",
            "1\n",
            "2\n"
          ],
          "name": "stdout"
        }
      ]
    },
    {
      "cell_type": "code",
      "metadata": {
        "id": "X2Rsf9SyO2VG"
      },
      "source": [
        ""
      ],
      "execution_count": null,
      "outputs": []
    }
  ]
}